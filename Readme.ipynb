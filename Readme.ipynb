{
 "cells": [
  {
   "cell_type": "markdown",
   "id": "0466d303-ba7a-4770-aac7-78103c6d681b",
   "metadata": {},
   "source": [
    "## Regime-Based Investment Models"
   ]
  },
  {
   "cell_type": "markdown",
   "id": "3094598b-d743-4f8a-9701-bc8d1b1cfccc",
   "metadata": {},
   "source": [
    "This project implements a regime-based investment framework for portfolio optimization and risk management. It introduces multi-regime approach to model asset returns, capturing the dynamic nature of market behavior across different economic environments. The model leverages a trend-filtering algorithm and multi-period simulation techniques to assess portfolio performance under varying market regimes."
   ]
  },
  {
   "cell_type": "markdown",
   "id": "02d33ac1-2332-47bf-a078-dc8ba5635a3c",
   "metadata": {},
   "source": [
    "# Features\n",
    "1. Dataset Preparation: Statistics, visualization,predefined function converts return indices into percentage\n",
    "2. Regime Identification: Trend-filtering algorithm separates mar ket regimes. Calculates regime-specific cheracteristics using hyperparameters (lambda values)\n",
    "3. Market Analysis: Employs Q-Q plots to analyze distributional assumptions of asset returns.\n",
    "4. Portfolio Optimization: Implements Markowitz Mean-Variance Model for allocation. Extends with scenario-based simulations, and simulates efficient frontiers under single-regime and multi-regime assumptions\n",
    "5. Monte Carlo Simulations: Models long-term investment scenarios for institutional funds, simulates portfolio performance over 50 years, compares traditional and dynamic spending rules to mitigate downside risks."
   ]
  },
  {
   "cell_type": "code",
   "execution_count": null,
   "id": "352859d7-af98-4563-abd8-187795ee73e7",
   "metadata": {},
   "outputs": [],
   "source": []
  }
 ],
 "metadata": {
  "kernelspec": {
   "display_name": "Python 3 (ipykernel)",
   "language": "python",
   "name": "python3"
  },
  "language_info": {
   "codemirror_mode": {
    "name": "ipython",
    "version": 3
   },
   "file_extension": ".py",
   "mimetype": "text/x-python",
   "name": "python",
   "nbconvert_exporter": "python",
   "pygments_lexer": "ipython3",
   "version": "3.11.7"
  }
 },
 "nbformat": 4,
 "nbformat_minor": 5
}
